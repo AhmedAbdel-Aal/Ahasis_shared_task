{
 "cells": [
  {
   "cell_type": "code",
   "execution_count": 12,
   "metadata": {},
   "outputs": [
    {
     "name": "stdout",
     "output_type": "stream",
     "text": [
      "The autoreload extension is already loaded. To reload it, use:\n",
      "  %reload_ext autoreload\n"
     ]
    }
   ],
   "source": [
    "%load_ext autoreload\n",
    "%autoreload 2"
   ]
  },
  {
   "cell_type": "code",
   "execution_count": 13,
   "metadata": {},
   "outputs": [],
   "source": [
    "import os\n",
    "import sys\n",
    "\n",
    "import pandas as pd\n",
    "import matplotlib.pyplot as plt\n",
    "import seaborn as sns\n",
    "\n",
    "\n",
    "from utils import (\n",
    "    load_json,\n",
    "    save_json,\n",
    "    load_txt,\n",
    "    save_txt,\n",
    ")"
   ]
  },
  {
   "cell_type": "code",
   "execution_count": 14,
   "metadata": {},
   "outputs": [
    {
     "data": {
      "text/plain": [
       "(860, 4)"
      ]
     },
     "execution_count": 14,
     "metadata": {},
     "output_type": "execute_result"
    }
   ],
   "source": [
    "df = pd.read_csv('./data/train.csv')\n",
    "df.shape"
   ]
  },
  {
   "cell_type": "code",
   "execution_count": 15,
   "metadata": {},
   "outputs": [
    {
     "data": {
      "text/html": [
       "<div>\n",
       "<style scoped>\n",
       "    .dataframe tbody tr th:only-of-type {\n",
       "        vertical-align: middle;\n",
       "    }\n",
       "\n",
       "    .dataframe tbody tr th {\n",
       "        vertical-align: top;\n",
       "    }\n",
       "\n",
       "    .dataframe thead th {\n",
       "        text-align: right;\n",
       "    }\n",
       "</style>\n",
       "<table border=\"1\" class=\"dataframe\">\n",
       "  <thead>\n",
       "    <tr style=\"text-align: right;\">\n",
       "      <th></th>\n",
       "      <th>ID</th>\n",
       "      <th>Sentiment</th>\n",
       "      <th>Text</th>\n",
       "      <th>Dialect</th>\n",
       "    </tr>\n",
       "  </thead>\n",
       "  <tbody>\n",
       "    <tr>\n",
       "      <th>0</th>\n",
       "      <td>1071.0</td>\n",
       "      <td>neutral</td>\n",
       "      <td>الشاطئ ممتاز لكن ماهو نظيف</td>\n",
       "      <td>Saudi</td>\n",
       "    </tr>\n",
       "    <tr>\n",
       "      <th>1</th>\n",
       "      <td>2090.0</td>\n",
       "      <td>negative</td>\n",
       "      <td>فندق خايب بزاف، هاد الفندق من أسوأ الفنادق الل...</td>\n",
       "      <td>Darija</td>\n",
       "    </tr>\n",
       "    <tr>\n",
       "      <th>2</th>\n",
       "      <td>2242.0</td>\n",
       "      <td>negative</td>\n",
       "      <td>رابعا، ما كينش فراشات زايدين فالبيوت، وحتى فا...</td>\n",
       "      <td>Darija</td>\n",
       "    </tr>\n",
       "  </tbody>\n",
       "</table>\n",
       "</div>"
      ],
      "text/plain": [
       "       ID Sentiment                                               Text Dialect\n",
       "0  1071.0   neutral                         الشاطئ ممتاز لكن ماهو نظيف   Saudi\n",
       "1  2090.0  negative  فندق خايب بزاف، هاد الفندق من أسوأ الفنادق الل...  Darija\n",
       "2  2242.0  negative   رابعا، ما كينش فراشات زايدين فالبيوت، وحتى فا...  Darija"
      ]
     },
     "execution_count": 15,
     "metadata": {},
     "output_type": "execute_result"
    }
   ],
   "source": [
    "df.head(3)"
   ]
  },
  {
   "cell_type": "code",
   "execution_count": 16,
   "metadata": {},
   "outputs": [
    {
     "data": {
      "text/plain": [
       "Dialect\n",
       "Saudi     430\n",
       "Darija    430\n",
       "Name: count, dtype: int64"
      ]
     },
     "execution_count": 16,
     "metadata": {},
     "output_type": "execute_result"
    }
   ],
   "source": [
    "# count the rows per dialects\n",
    "dialect_counts = df['Dialect'].value_counts()\n",
    "dialect_counts"
   ]
  },
  {
   "cell_type": "code",
   "execution_count": 17,
   "metadata": {},
   "outputs": [
    {
     "data": {
      "text/plain": [
       "Sentiment\n",
       "negative    336\n",
       "positive    308\n",
       "neutral     216\n",
       "Name: count, dtype: int64"
      ]
     },
     "execution_count": 17,
     "metadata": {},
     "output_type": "execute_result"
    }
   ],
   "source": [
    "# count the rows per sentiment\n",
    "sentiment_counts = df['Sentiment'].value_counts()\n",
    "sentiment_counts"
   ]
  },
  {
   "cell_type": "code",
   "execution_count": 18,
   "metadata": {},
   "outputs": [
    {
     "data": {
      "text/html": [
       "<div>\n",
       "<style scoped>\n",
       "    .dataframe tbody tr th:only-of-type {\n",
       "        vertical-align: middle;\n",
       "    }\n",
       "\n",
       "    .dataframe tbody tr th {\n",
       "        vertical-align: top;\n",
       "    }\n",
       "\n",
       "    .dataframe thead th {\n",
       "        text-align: right;\n",
       "    }\n",
       "</style>\n",
       "<table border=\"1\" class=\"dataframe\">\n",
       "  <thead>\n",
       "    <tr style=\"text-align: right;\">\n",
       "      <th>Sentiment</th>\n",
       "      <th>negative</th>\n",
       "      <th>neutral</th>\n",
       "      <th>positive</th>\n",
       "    </tr>\n",
       "    <tr>\n",
       "      <th>Dialect</th>\n",
       "      <th></th>\n",
       "      <th></th>\n",
       "      <th></th>\n",
       "    </tr>\n",
       "  </thead>\n",
       "  <tbody>\n",
       "    <tr>\n",
       "      <th>Darija</th>\n",
       "      <td>168</td>\n",
       "      <td>108</td>\n",
       "      <td>154</td>\n",
       "    </tr>\n",
       "    <tr>\n",
       "      <th>Saudi</th>\n",
       "      <td>168</td>\n",
       "      <td>108</td>\n",
       "      <td>154</td>\n",
       "    </tr>\n",
       "  </tbody>\n",
       "</table>\n",
       "</div>"
      ],
      "text/plain": [
       "Sentiment  negative  neutral  positive\n",
       "Dialect                               \n",
       "Darija          168      108       154\n",
       "Saudi           168      108       154"
      ]
     },
     "execution_count": 18,
     "metadata": {},
     "output_type": "execute_result"
    }
   ],
   "source": [
    "# count the sentiment per dialect\n",
    "dialect_sentiment_counts = df.groupby(['Dialect', 'Sentiment']).size().unstack(fill_value=0)\n",
    "dialect_sentiment_counts"
   ]
  },
  {
   "cell_type": "code",
   "execution_count": 19,
   "metadata": {},
   "outputs": [
    {
     "data": {
      "text/html": [
       "<div>\n",
       "<style scoped>\n",
       "    .dataframe tbody tr th:only-of-type {\n",
       "        vertical-align: middle;\n",
       "    }\n",
       "\n",
       "    .dataframe tbody tr th {\n",
       "        vertical-align: top;\n",
       "    }\n",
       "\n",
       "    .dataframe thead th {\n",
       "        text-align: right;\n",
       "    }\n",
       "</style>\n",
       "<table border=\"1\" class=\"dataframe\">\n",
       "  <thead>\n",
       "    <tr style=\"text-align: right;\">\n",
       "      <th>Sentiment</th>\n",
       "      <th>negative</th>\n",
       "      <th>neutral</th>\n",
       "      <th>positive</th>\n",
       "    </tr>\n",
       "    <tr>\n",
       "      <th>Dialect</th>\n",
       "      <th></th>\n",
       "      <th></th>\n",
       "      <th></th>\n",
       "    </tr>\n",
       "  </thead>\n",
       "  <tbody>\n",
       "    <tr>\n",
       "      <th>Darija</th>\n",
       "      <td>19.589286</td>\n",
       "      <td>20.351852</td>\n",
       "      <td>22.623377</td>\n",
       "    </tr>\n",
       "    <tr>\n",
       "      <th>Saudi</th>\n",
       "      <td>19.000000</td>\n",
       "      <td>19.509259</td>\n",
       "      <td>22.805195</td>\n",
       "    </tr>\n",
       "  </tbody>\n",
       "</table>\n",
       "</div>"
      ],
      "text/plain": [
       "Sentiment   negative    neutral   positive\n",
       "Dialect                                   \n",
       "Darija     19.589286  20.351852  22.623377\n",
       "Saudi      19.000000  19.509259  22.805195"
      ]
     },
     "execution_count": 19,
     "metadata": {},
     "output_type": "execute_result"
    }
   ],
   "source": [
    "def count_words(text):\n",
    "    \"\"\" Count the number of words in a given text. \"\"\"\n",
    "    return len(text.split())\n",
    "\n",
    "# count the number of words in each text\n",
    "df['word_count'] = df['Text'].apply(count_words)\n",
    "\n",
    "# count the average number of words per sentiment per dialect\n",
    "avg_word_count = df.groupby(['Dialect', 'Sentiment'])['word_count'].mean().unstack()\n",
    "avg_word_count\n"
   ]
  },
  {
   "cell_type": "code",
   "execution_count": 20,
   "metadata": {},
   "outputs": [
    {
     "data": {
      "image/png": "[encoded data removed]",
      "text/plain": [
       "<Figure size 1000x600 with 1 Axes>"
      ]
     },
     "metadata": {},
     "output_type": "display_data"
    }
   ],
   "source": [
    "# --- Word count distribution plot ---\n",
    "plt.figure(figsize=(10, 6))\n",
    "sns.histplot(data=df, x='word_count', hue='Sentiment', multiple='stack', bins=30)\n",
    "plt.title('Word Count Distribution by Sentiment')\n",
    "plt.xlabel('Word Count')\n",
    "plt.ylabel('Frequency')\n",
    "plt.show()\n"
   ]
  },
  {
   "cell_type": "code",
   "execution_count": 21,
   "metadata": {},
   "outputs": [
    {
     "data": {
      "text/html": [
       "<div>\n",
       "<style scoped>\n",
       "    .dataframe tbody tr th:only-of-type {\n",
       "        vertical-align: middle;\n",
       "    }\n",
       "\n",
       "    .dataframe tbody tr th {\n",
       "        vertical-align: top;\n",
       "    }\n",
       "\n",
       "    .dataframe thead th {\n",
       "        text-align: right;\n",
       "    }\n",
       "</style>\n",
       "<table border=\"1\" class=\"dataframe\">\n",
       "  <thead>\n",
       "    <tr style=\"text-align: right;\">\n",
       "      <th>Sentiment</th>\n",
       "      <th>negative</th>\n",
       "      <th>neutral</th>\n",
       "      <th>positive</th>\n",
       "    </tr>\n",
       "    <tr>\n",
       "      <th>Dialect</th>\n",
       "      <th></th>\n",
       "      <th></th>\n",
       "      <th></th>\n",
       "    </tr>\n",
       "  </thead>\n",
       "  <tbody>\n",
       "    <tr>\n",
       "      <th>Darija</th>\n",
       "      <td>111.148810</td>\n",
       "      <td>114.675926</td>\n",
       "      <td>127.220779</td>\n",
       "    </tr>\n",
       "    <tr>\n",
       "      <th>Saudi</th>\n",
       "      <td>96.970238</td>\n",
       "      <td>100.240741</td>\n",
       "      <td>118.272727</td>\n",
       "    </tr>\n",
       "  </tbody>\n",
       "</table>\n",
       "</div>"
      ],
      "text/plain": [
       "Sentiment    negative     neutral    positive\n",
       "Dialect                                      \n",
       "Darija     111.148810  114.675926  127.220779\n",
       "Saudi       96.970238  100.240741  118.272727"
      ]
     },
     "execution_count": 21,
     "metadata": {},
     "output_type": "execute_result"
    }
   ],
   "source": [
    "def count_chars(text):\n",
    "    \"\"\" Count the number of words in a given text. \"\"\"\n",
    "    return len(text)\n",
    "\n",
    "# count the number of words in each text\n",
    "df['char_count'] = df['Text'].apply(count_chars)\n",
    "\n",
    "# count the average number of words per sentiment per dialect\n",
    "avg_word_count = df.groupby(['Dialect', 'Sentiment'])['char_count'].mean().unstack()\n",
    "avg_word_count\n"
   ]
  },
  {
   "cell_type": "code",
   "execution_count": 22,
   "metadata": {},
   "outputs": [
    {
     "data": {
      "image/png": "[encoded data removed]",
      "text/plain": [
       "<Figure size 1000x600 with 1 Axes>"
      ]
     },
     "metadata": {},
     "output_type": "display_data"
    }
   ],
   "source": [
    "# --- Character count distribution plot ---\n",
    "plt.figure(figsize=(10, 6))\n",
    "sns.histplot(data=df, x='char_count', hue='Sentiment', multiple='stack', bins=30)\n",
    "plt.title('Character Count Distribution by Sentiment')\n",
    "plt.xlabel('Character Count')\n",
    "plt.ylabel('Frequency')\n",
    "plt.show()\n"
   ]
  },
  {
   "cell_type": "code",
   "execution_count": 23,
   "metadata": {},
   "outputs": [
    {
     "name": "stdout",
     "output_type": "stream",
     "text": [
      "\n",
      "Top 20 words overall:\n",
      "[('و', 972), ('من', 430), ('في', 330), ('ما', 320), ('الفندق', 263), ('اللي', 201), ('كان', 196), ('فيه', 191), ('فندق', 178), ('على', 165), ('مره', 145), ('ديال', 129), ('كانت', 114), ('كل', 108), ('بزاف', 97), ('شي', 97), ('الغرف', 86), ('مع', 85), ('هاد', 84), ('هذا', 77)]\n",
      "\n",
      "Top 20 words for Sentiment = neutral:\n",
      "[('و', 227), ('من', 91), ('ما', 77), ('في', 67), ('كان', 65), ('الفندق', 57), ('اللي', 46), ('فندق', 44), ('فيه', 43), ('ولكن', 33), ('كانت', 32), ('على', 31), ('ديال', 31), ('شي', 31), ('مره', 29), ('جيد', 25), ('بالنسبة', 24), ('لكن', 22), ('بس', 22), ('قريب', 22)]\n",
      "\n",
      "Top 20 words for Sentiment = negative:\n",
      "[('و', 291), ('ما', 200), ('من', 144), ('في', 107), ('الفندق', 85), ('اللي', 73), ('فيه', 72), ('على', 59), ('كان', 58), ('مره', 54), ('ديال', 46), ('حتى', 40), ('فندق', 38), ('لا', 37), ('هذا', 37), ('شي', 37), ('الغرف', 35), ('هاد', 31), ('بزاف', 31), ('كانت', 30)]\n",
      "\n",
      "Top 20 words for Sentiment = positive:\n",
      "[('و', 454), ('من', 195), ('في', 156), ('الفندق', 121), ('فندق', 96), ('اللي', 82), ('فيه', 76), ('على', 75), ('كان', 73), ('كل', 68), ('مره', 62), ('كانت', 52), ('ديال', 52), ('بزاف', 45), ('ما', 43), ('ف', 36), ('هاد', 35), ('مع', 34), ('الموظفين', 34), ('الغرف', 30)]\n"
     ]
    }
   ],
   "source": [
    "# --- Most common words (Optional deeper analysis) ---\n",
    "from collections import Counter\n",
    "\n",
    "def get_top_n_words(corpus, n=None):\n",
    "    words = [word for text in corpus for word in str(text).split()]\n",
    "    counter = Counter(words)\n",
    "    return counter.most_common(n)\n",
    "\n",
    "print(\"\\nTop 20 words overall:\")\n",
    "print(get_top_n_words(df['Text'], 20))\n",
    "\n",
    "for sentiment in df['Sentiment'].unique():\n",
    "    print(f\"\\nTop 20 words for Sentiment = {sentiment}:\")\n",
    "    subset = df[df['Sentiment'] == sentiment]\n",
    "    print(get_top_n_words(subset['Text'], 20))\n"
   ]
  },
  {
   "cell_type": "code",
   "execution_count": 24,
   "metadata": {},
   "outputs": [
    {
     "name": "stdout",
     "output_type": "stream",
     "text": [
      "\n",
      "Texts containing question marks (Arabic/Latin):\n",
      "has_question_mark\n",
      "False    857\n",
      "True       3\n",
      "Name: count, dtype: int64\n"
     ]
    }
   ],
   "source": [
    "# --- Special Characters analysis (Optional) ---\n",
    "# Check for weird chars like '؟', emojis, etc.\n",
    "df['has_question_mark'] = df['Text'].apply(lambda x: '?' in str(x) or '؟' in str(x))\n",
    "print(\"\\nTexts containing question marks (Arabic/Latin):\")\n",
    "print(df['has_question_mark'].value_counts())"
   ]
  },
  {
   "cell_type": "code",
   "execution_count": 25,
   "metadata": {},
   "outputs": [
    {
     "name": "stdout",
     "output_type": "stream",
     "text": [
      "\n",
      "Negation presence:\n",
      "has_negation\n",
      "False    553\n",
      "True     307\n",
      "Name: count, dtype: int64\n"
     ]
    }
   ],
   "source": [
    "# --- Phase 2: Smart Arabic Exploration ---\n",
    "\n",
    "# --- 1. Negation Detection ---\n",
    "negation_words = [\n",
    "    'ما', 'مش', 'مو', 'ليس', 'لا', 'مافي', 'مافيش', 'ماكانش', 'مازال', 'ماكانوش',\n",
    "    'مكينش', 'ماشي', 'ماعنديش', 'ماعندكش', 'ماعندهمش', 'مفيش', 'ماجاش', 'ماصارش', 'ماكيتشافش',\n",
    "    'موش', 'منيش', 'منيشي', 'ماخدمتش', 'مايصلحش', 'مايستاهلش', 'مايجيش', 'ماعديش', 'مايسواش'\n",
    "]\n",
    "df['has_negation'] = df['Text'].apply(lambda x: any(word in str(x).split() for word in negation_words))\n",
    "print(\"\\nNegation presence:\")\n",
    "print(df['has_negation'].value_counts())\n"
   ]
  },
  {
   "cell_type": "code",
   "execution_count": 26,
   "metadata": {},
   "outputs": [
    {
     "ename": "NameError",
     "evalue": "name 're' is not defined",
     "output_type": "error",
     "traceback": [
      "\u001b[31m---------------------------------------------------------------------------\u001b[39m",
      "\u001b[31mNameError\u001b[39m                                 Traceback (most recent call last)",
      "\u001b[36mCell\u001b[39m\u001b[36m \u001b[39m\u001b[32mIn[26]\u001b[39m\u001b[32m, line 2\u001b[39m\n\u001b[32m      1\u001b[39m \u001b[38;5;66;03m# --- 3. Emoji and Emphasis Detection ---\u001b[39;00m\n\u001b[32m----> \u001b[39m\u001b[32m2\u001b[39m emoji_pattern = \u001b[43mre\u001b[49m.compile(\u001b[33m\"\u001b[39m\u001b[33m[\u001b[39m\u001b[38;5;130;01m\\U0001F600\u001b[39;00m\u001b[33m-\u001b[39m\u001b[38;5;130;01m\\U0001F64F\u001b[39;00m\u001b[38;5;130;01m\\U0001F300\u001b[39;00m\u001b[33m-\u001b[39m\u001b[38;5;130;01m\\U0001F5FF\u001b[39;00m\u001b[38;5;130;01m\\U0001F680\u001b[39;00m\u001b[33m-\u001b[39m\u001b[38;5;130;01m\\U0001F6FF\u001b[39;00m\u001b[38;5;130;01m\\U0001F1E0\u001b[39;00m\u001b[33m-\u001b[39m\u001b[38;5;130;01m\\U0001F1FF\u001b[39;00m\u001b[33m]\u001b[39m\u001b[33m\"\u001b[39m)\n\u001b[32m      3\u001b[39m df[\u001b[33m'\u001b[39m\u001b[33mhas_emoji\u001b[39m\u001b[33m'\u001b[39m] = df[\u001b[33m'\u001b[39m\u001b[33mText\u001b[39m\u001b[33m'\u001b[39m].apply(\u001b[38;5;28;01mlambda\u001b[39;00m x: \u001b[38;5;28mbool\u001b[39m(emoji_pattern.search(\u001b[38;5;28mstr\u001b[39m(x))))\n\u001b[32m      4\u001b[39m df[\u001b[33m'\u001b[39m\u001b[33mhas_exclam\u001b[39m\u001b[33m'\u001b[39m] = df[\u001b[33m'\u001b[39m\u001b[33mText\u001b[39m\u001b[33m'\u001b[39m].apply(\u001b[38;5;28;01mlambda\u001b[39;00m x: \u001b[33m'\u001b[39m\u001b[33m!\u001b[39m\u001b[33m'\u001b[39m \u001b[38;5;129;01min\u001b[39;00m \u001b[38;5;28mstr\u001b[39m(x) \u001b[38;5;129;01mor\u001b[39;00m \u001b[33m'\u001b[39m\u001b[33m！\u001b[39m\u001b[33m'\u001b[39m \u001b[38;5;129;01min\u001b[39;00m \u001b[38;5;28mstr\u001b[39m(x))\n",
      "\u001b[31mNameError\u001b[39m: name 're' is not defined"
     ]
    }
   ],
   "source": [
    "# --- 3. Emoji and Emphasis Detection ---\n",
    "emoji_pattern = re.compile(\"[\\U0001F600-\\U0001F64F\\U0001F300-\\U0001F5FF\\U0001F680-\\U0001F6FF\\U0001F1E0-\\U0001F1FF]\")\n",
    "df['has_emoji'] = df['Text'].apply(lambda x: bool(emoji_pattern.search(str(x))))\n",
    "df['has_exclam'] = df['Text'].apply(lambda x: '!' in str(x) or '！' in str(x))\n",
    "df['has_repeat_char'] = df['Text'].apply(lambda x: bool(re.search(r'(.)\\1{2,}', str(x))))\n",
    "\n",
    "print(\"\\nSpecial character signals:\")\n",
    "print(\"Emojis:\", df['has_emoji'].sum())\n",
    "print(\"Exclamations:\", df['has_exclam'].sum())\n",
    "print(\"Repeated characters:\", df['has_repeat_char'].sum())"
   ]
  },
  {
   "cell_type": "code",
   "execution_count": null,
   "metadata": {},
   "outputs": [
    {
     "name": "stdout",
     "output_type": "stream",
     "text": [
      "\n",
      "Sentiment lexicon signals:\n",
      "Contains positive word: 227\n",
      "Contains negative word: 95\n",
      "\n",
      "Label distribution by lexicon match:\n",
      "\n",
      "If positive word present:\n",
      "Sentiment\n",
      "positive    140\n",
      "neutral      60\n",
      "negative     27\n",
      "Name: count, dtype: int64\n",
      "\n",
      "If negative word present:\n",
      "Sentiment\n",
      "negative    87\n",
      "neutral      6\n",
      "positive     2\n",
      "Name: count, dtype: int64\n",
      "\n",
      "If neither present:\n",
      "Sentiment\n",
      "negative    227\n",
      "positive    166\n",
      "neutral     153\n",
      "Name: count, dtype: int64\n"
     ]
    }
   ],
   "source": [
    "# --- 4. Sentiment Lexicon Matching ---\n",
    "positive_words = ['جميل', 'ممتاز', 'جيد', 'رائع', 'نظيف', 'مريح', 'هايل', 'زين']\n",
    "negative_words = ['سيئ', 'خايب', 'قذر', 'قبيح', 'خدمة خايبة', 'زفت', 'غالي', 'وسخ']\n",
    "\n",
    "def has_lexicon_word(text, wordlist):\n",
    "    return any(word in str(text) for word in wordlist)\n",
    "\n",
    "df['has_positive_word'] = df['Text'].apply(lambda x: has_lexicon_word(x, positive_words))\n",
    "df['has_negative_word'] = df['Text'].apply(lambda x: has_lexicon_word(x, negative_words))\n",
    "\n",
    "print(\"\\nSentiment lexicon signals:\")\n",
    "print(\"Contains positive word:\", df['has_positive_word'].sum())\n",
    "print(\"Contains negative word:\", df['has_negative_word'].sum())\n",
    "\n",
    "# --- Lexicon match vs Sentiment label ---\n",
    "print(\"\\nLabel distribution by lexicon match:\")\n",
    "print(\"\\nIf positive word present:\")\n",
    "print(df[df['has_positive_word'] == True]['Sentiment'].value_counts())\n",
    "print(\"\\nIf negative word present:\")\n",
    "print(df[df['has_negative_word'] == True]['Sentiment'].value_counts())\n",
    "print(\"\\nIf neither present:\")\n",
    "print(df[(df['has_positive_word'] == False) & (df['has_negative_word'] == False)]['Sentiment'].value_counts())\n"
   ]
  },
  {
   "cell_type": "code",
   "execution_count": null,
   "metadata": {},
   "outputs": [],
   "source": []
  }
 ],
 "metadata": {
  "kernelspec": {
   "display_name": "ahasis",
   "language": "python",
   "name": "python3"
  },
  "language_info": {
   "codemirror_mode": {
    "name": "ipython",
    "version": 3
   },
   "file_extension": ".py",
   "mimetype": "text/x-python",
   "name": "python",
   "nbconvert_exporter": "python",
   "pygments_lexer": "ipython3",
   "version": "3.11.3"
  },
  "orig_nbformat": 4
 },
 "nbformat": 4,
 "nbformat_minor": 2
}
