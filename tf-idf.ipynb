{
 "cells": [
  {
   "cell_type": "code",
   "execution_count": 1,
   "metadata": {},
   "outputs": [],
   "source": [
    "%load_ext autoreload\n",
    "%autoreload 2"
   ]
  },
  {
   "cell_type": "code",
   "execution_count": 2,
   "metadata": {},
   "outputs": [],
   "source": [
    "import pandas as pd\n",
    "from sklearn.feature_extraction.text import TfidfVectorizer\n",
    "from sklearn.naive_bayes import MultinomialNB\n",
    "from sklearn.pipeline import make_pipeline\n",
    "from sklearn.metrics import classification_report\n"
   ]
  },
  {
   "cell_type": "code",
   "execution_count": 4,
   "metadata": {},
   "outputs": [],
   "source": [
    "train_df = pd.read_csv(\"data/train_subset.csv\")\n",
    "dev_df = pd.read_csv(\"data/dev_subset.csv\")"
   ]
  },
  {
   "cell_type": "code",
   "execution_count": 10,
   "metadata": {},
   "outputs": [
    {
     "name": "stdout",
     "output_type": "stream",
     "text": [
      "              precision    recall  f1-score   support\n",
      "\n",
      "      Darija       0.98      0.95      0.97        87\n",
      "       Saudi       0.95      0.98      0.97        85\n",
      "\n",
      "    accuracy                           0.97       172\n",
      "   macro avg       0.97      0.97      0.97       172\n",
      "weighted avg       0.97      0.97      0.97       172\n",
      "\n"
     ]
    }
   ],
   "source": [
    "\n",
    "# --- Prepare data ---\n",
    "# Split the data into features (Text) and target (Dialect)\n",
    "X = train_df['Text']\n",
    "y = train_df['Dialect']\n",
    "\n",
    "X_dev = dev_df['Text']\n",
    "y_dev = dev_df['Dialect']\n",
    "# --- Build TF-IDF + Naive Bayes pipeline ---\n",
    "model = make_pipeline(\n",
    "    TfidfVectorizer(max_features=1000),  # Using 5000 most frequent terms\n",
    "    MultinomialNB()\n",
    ")\n",
    "\n",
    "# --- Train the model ---\n",
    "model.fit(X, y)\n",
    "\n",
    "# --- Evaluate the model ---\n",
    "y_pred = model.predict(X_dev)\n",
    "print(classification_report(y_dev, y_pred))\n"
   ]
  },
  {
   "cell_type": "code",
   "execution_count": 11,
   "metadata": {},
   "outputs": [
    {
     "data": {
      "text/plain": [
       "array(['Saudi', 'Darija', 'Darija', 'Saudi', 'Darija', 'Saudi', 'Darija',\n",
       "       'Darija', 'Saudi', 'Darija', 'Darija', 'Darija', 'Darija',\n",
       "       'Darija', 'Saudi', 'Saudi', 'Darija', 'Darija', 'Darija', 'Saudi',\n",
       "       'Darija', 'Darija', 'Saudi', 'Saudi', 'Saudi', 'Saudi', 'Darija',\n",
       "       'Saudi', 'Saudi', 'Darija', 'Saudi', 'Saudi', 'Darija', 'Darija',\n",
       "       'Darija', 'Darija', 'Darija', 'Darija', 'Saudi', 'Saudi', 'Saudi',\n",
       "       'Darija', 'Saudi', 'Saudi', 'Saudi', 'Saudi', 'Saudi', 'Darija',\n",
       "       'Darija', 'Saudi', 'Saudi', 'Saudi', 'Saudi', 'Darija', 'Darija',\n",
       "       'Saudi', 'Darija', 'Saudi', 'Darija', 'Darija', 'Saudi', 'Saudi',\n",
       "       'Darija', 'Darija', 'Darija', 'Darija', 'Saudi', 'Darija', 'Saudi',\n",
       "       'Saudi', 'Darija', 'Darija', 'Darija', 'Saudi', 'Saudi', 'Darija',\n",
       "       'Darija', 'Saudi', 'Darija', 'Darija', 'Saudi', 'Darija', 'Saudi',\n",
       "       'Darija', 'Saudi', 'Saudi', 'Darija', 'Saudi', 'Saudi', 'Darija',\n",
       "       'Darija', 'Darija', 'Darija', 'Darija', 'Saudi', 'Saudi', 'Darija',\n",
       "       'Darija', 'Saudi', 'Saudi', 'Darija', 'Darija', 'Darija', 'Darija',\n",
       "       'Darija', 'Darija', 'Darija', 'Saudi', 'Darija', 'Saudi', 'Saudi',\n",
       "       'Saudi', 'Saudi', 'Saudi', 'Saudi', 'Saudi', 'Darija', 'Darija',\n",
       "       'Saudi', 'Darija', 'Saudi', 'Saudi', 'Darija', 'Darija', 'Saudi',\n",
       "       'Darija', 'Darija', 'Darija', 'Darija', 'Darija', 'Saudi', 'Saudi',\n",
       "       'Darija', 'Saudi', 'Saudi', 'Darija', 'Saudi', 'Darija', 'Saudi',\n",
       "       'Darija', 'Saudi', 'Saudi', 'Darija', 'Saudi', 'Saudi', 'Saudi',\n",
       "       'Saudi', 'Saudi', 'Darija', 'Saudi', 'Darija', 'Darija', 'Saudi',\n",
       "       'Saudi', 'Saudi', 'Saudi', 'Saudi', 'Saudi', 'Darija', 'Saudi',\n",
       "       'Saudi', 'Saudi', 'Saudi', 'Darija', 'Darija', 'Darija', 'Saudi',\n",
       "       'Saudi', 'Saudi', 'Saudi', 'Darija', 'Darija'], dtype='<U6')"
      ]
     },
     "execution_count": 11,
     "metadata": {},
     "output_type": "execute_result"
    }
   ],
   "source": [
    "y_pred"
   ]
  },
  {
   "cell_type": "code",
   "execution_count": null,
   "metadata": {},
   "outputs": [],
   "source": []
  }
 ],
 "metadata": {
  "kernelspec": {
   "display_name": ".venv",
   "language": "python",
   "name": "python3"
  },
  "language_info": {
   "codemirror_mode": {
    "name": "ipython",
    "version": 3
   },
   "file_extension": ".py",
   "mimetype": "text/x-python",
   "name": "python",
   "nbconvert_exporter": "python",
   "pygments_lexer": "ipython3",
   "version": "3.11.3"
  },
  "orig_nbformat": 4
 },
 "nbformat": 4,
 "nbformat_minor": 2
}
